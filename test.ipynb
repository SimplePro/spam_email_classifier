{
 "cells": [
  {
   "cell_type": "code",
   "execution_count": 6,
   "metadata": {},
   "outputs": [],
   "source": [
    "from spam import Spam"
   ]
  },
  {
   "cell_type": "markdown",
   "metadata": {},
   "source": [
    "### 실제 스팸이 아닌 이메일."
   ]
  },
  {
   "cell_type": "code",
   "execution_count": 7,
   "metadata": {},
   "outputs": [
    {
     "name": "stdout",
     "output_type": "stream",
     "text": [
      "0\n"
     ]
    }
   ],
   "source": [
    "spam = Spam(\"You do not want to indent when you are using this format. This is the best use when you are writing about to reader. Remember than the first rule is to know your audience. In a persuasive letter, you state your opinion feelings about something that is important to you after you have introduce You must sound as professional and passionate as possible, You do not belittle the reader or they will not finish reading your letter, Your letter have the facts, reasons, and examples, to support your position. Address your reader may have in their argument. In a second paragraph, you must have solutions, Without solutions, you complaining, Offer assistance in solving the problem. Remind the reader can contact you.\")\n",
    "print(spam.predict())"
   ]
  },
  {
   "cell_type": "markdown",
   "metadata": {},
   "source": [
    "### 실제 스팸인 이메일."
   ]
  },
  {
   "cell_type": "code",
   "execution_count": 8,
   "metadata": {},
   "outputs": [
    {
     "name": "stdout",
     "output_type": "stream",
     "text": [
      "1\n"
     ]
    }
   ],
   "source": [
    "spam = Spam(\"WINNING AMOUNT My name is Mark Zuckerberg, A philanthropist the founder and CEO of the social-networking website Facebook, as well as one of the world's youngest billionaries and Chairman of the Mark Zuckerberg Charitable Foundation, One of the largest private foundations in the world. I belive strongly in gving while living I had one idea that never changed in my mind - that you should use your wealth to help people and i have decided to secretly give {&1,500,000.00} to randomly selected individuals worldwide. On receipt of this email, you should count yourself as the lucky individual. Your email address was chosen online while searching at random. Kindly get back to me at your earliest convenience, so I know your email address is valid. Email me Visit the web page to know more about me\")\n",
    "print(spam.predict())"
   ]
  },
  {
   "cell_type": "markdown",
   "metadata": {},
   "source": [
    "#### 평가 해본 결과 정확도 : 약 98%"
   ]
  }
 ],
 "metadata": {
  "kernelspec": {
   "display_name": "Python 3",
   "language": "python",
   "name": "python3"
  },
  "language_info": {
   "codemirror_mode": {
    "name": "ipython",
    "version": 3
   },
   "file_extension": ".py",
   "mimetype": "text/x-python",
   "name": "python",
   "nbconvert_exporter": "python",
   "pygments_lexer": "ipython3",
   "version": "3.8.1"
  }
 },
 "nbformat": 4,
 "nbformat_minor": 4
}
